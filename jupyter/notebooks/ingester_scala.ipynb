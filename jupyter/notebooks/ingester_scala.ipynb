{
 "cells": [
  {
   "cell_type": "code",
   "execution_count": 47,
   "metadata": {},
   "outputs": [
    {
     "data": {
      "text/plain": [
       "org.apache.spark.sql.SparkSession@4ee2c680"
      ]
     },
     "execution_count": 47,
     "metadata": {},
     "output_type": "execute_result"
    }
   ],
   "source": [
    "spark"
   ]
  },
  {
   "cell_type": "code",
   "execution_count": 49,
   "metadata": {},
   "outputs": [],
   "source": [
    "import org.apache.spark.sql.SparkSession\n",
    "import org.json4s.jackson.JsonMethods.parse\n",
    "import scala.io.Source.fromURL"
   ]
  },
  {
   "cell_type": "code",
   "execution_count": 104,
   "metadata": {},
   "outputs": [
    {
     "data": {
      "text/plain": [
       "formats = org.json4s.DefaultFormats$@16342756\n",
       "defined class Markets\n",
       "defined class Result\n"
      ]
     },
     "metadata": {},
     "output_type": "display_data"
    },
    {
     "data": {
      "text/plain": [
       "lastException: Throwable = null\n"
      ]
     },
     "metadata": {},
     "output_type": "display_data"
    },
    {
     "data": {
      "text/plain": [
       "org.json4s.DefaultFormats$@16342756"
      ]
     },
     "execution_count": 104,
     "metadata": {},
     "output_type": "execute_result"
    }
   ],
   "source": [
    "implicit val formats = org.json4s.DefaultFormats\n",
    "\n",
    "case class Markets(\n",
    "                    MarketCurrency: String,\n",
    "                    BaseCurrency: String,\n",
    "                    MarketCurrencyLong: String,\n",
    "                    BaseCurrencyLong: String,\n",
    "                    MinTradeSize: Double,\n",
    "                    MarketName: String,\n",
    "                    IsActive: Boolean,\n",
    "                    Created: String,\n",
    "                    Notice: Option[String],\n",
    "                    //IsSponsored: Option[String],\n",
    "                    LogoUrl: String\n",
    ")\n",
    "\n",
    "case class Result(success: Boolean,\n",
    "                  message: String,\n",
    "                  result: List[Markets])\n"
   ]
  },
  {
   "cell_type": "code",
   "execution_count": 105,
   "metadata": {
    "scrolled": false
   },
   "outputs": [
    {
     "name": "stdout",
     "output_type": "stream",
     "text": [
      "root\n",
      " |-- MarketCurrency: string (nullable = true)\n",
      " |-- BaseCurrency: string (nullable = true)\n",
      " |-- MarketCurrencyLong: string (nullable = true)\n",
      " |-- BaseCurrencyLong: string (nullable = true)\n",
      " |-- MinTradeSize: double (nullable = false)\n",
      " |-- MarketName: string (nullable = true)\n",
      " |-- IsActive: boolean (nullable = false)\n",
      " |-- Created: string (nullable = true)\n",
      " |-- Notice: string (nullable = true)\n",
      " |-- LogoUrl: string (nullable = true)\n",
      "\n",
      "+--------------+------------+------------------+----------------+------------+----------+--------+-------------------+------+--------------------+\n",
      "|MarketCurrency|BaseCurrency|MarketCurrencyLong|BaseCurrencyLong|MinTradeSize|MarketName|IsActive|            Created|Notice|             LogoUrl|\n",
      "+--------------+------------+------------------+----------------+------------+----------+--------+-------------------+------+--------------------+\n",
      "|           LTC|         BTC|          Litecoin|         Bitcoin|  0.03039514|   BTC-LTC|    true|2014-02-13T00:00:00|  null|https://bittrexbl...|\n",
      "|          DOGE|         BTC|          Dogecoin|         Bitcoin|462.96296296|  BTC-DOGE|    true|2014-02-13T00:00:00|  null|https://bittrexbl...|\n",
      "|           VTC|         BTC|          Vertcoin|         Bitcoin|  2.56410256|   BTC-VTC|    true|2014-02-13T00:00:00|  null|https://bittrexbl...|\n",
      "|           PPC|         BTC|          Peercoin|         Bitcoin|  1.04414651|   BTC-PPC|    true|2014-02-13T00:00:00|  null|https://bittrexbl...|\n",
      "|           FTC|         BTC|       Feathercoin|         Bitcoin| 38.94080997|   BTC-FTC|    true|2014-02-13T00:00:00|  null|https://bittrexbl...|\n",
      "|           RDD|         BTC|          ReddCoin|         Bitcoin|609.75609756|   BTC-RDD|    true|2014-02-25T09:00:00|  null|https://bittrexbl...|\n",
      "|           NXT|         BTC|               NXT|         Bitcoin| 23.69668246|   BTC-NXT|    true|2014-03-03T09:00:00|  null|https://bittrexbl...|\n",
      "|          DASH|         BTC|              Dash|         Bitcoin|  0.00964188|  BTC-DASH|    true|2014-03-11T08:00:00|  null|https://bittrexbl...|\n",
      "|           POT|         BTC|           PotCoin|         Bitcoin| 73.52941176|   BTC-POT|    true|2014-03-11T08:00:00|  null|https://bittrexbl...|\n",
      "|           BLK|         BTC|         BlackCoin|         Bitcoin|  23.4521576|   BTC-BLK|    true|2014-03-14T09:00:00|  null|https://bittrexbl...|\n",
      "|          EMC2|         BTC|       Einsteinium|         Bitcoin| 14.34308663|  BTC-EMC2|    true|2014-12-24T00:00:00|  null|https://bittrexbl...|\n",
      "|           XMY|         BTC|            Myriad|         Bitcoin|568.18181818|   BTC-XMY|    true|2014-03-15T08:00:00|  null|https://bittrexbl...|\n",
      "|           GLD|         BTC|          GoldCoin|         Bitcoin| 62.18905473|   BTC-GLD|    true|2014-03-22T16:00:00|  null|https://bittrexbl...|\n",
      "|           SLR|         BTC|         SolarCoin|         Bitcoin| 33.06878307|   BTC-SLR|    true|2014-03-23T06:00:00|  null|https://bittrexbl...|\n",
      "|           GRS|         BTC|       Groestlcoin|         Bitcoin|  3.20102433|   BTC-GRS|    true|2014-04-03T05:00:00|  null|https://bittrexbl...|\n",
      "|           NLG|         BTC|            Gulden|         Bitcoin| 60.38647343|   BTC-NLG|    true|2014-04-04T22:00:00|  null|https://bittrexbl...|\n",
      "|           XWC|         BTC|         WhiteCoin|         Bitcoin| 24.03846154|   BTC-XWC|    true|2014-04-14T00:00:00|  null|https://bittrexbl...|\n",
      "|          MONA|         BTC|          MonaCoin|         Bitcoin|  1.40552089|  BTC-MONA|    true|2014-04-18T22:00:00|  null|https://bittrexbl...|\n",
      "|           THC|         BTC|          HempCoin|         Bitcoin| 68.87052342|   BTC-THC|    true|2014-04-29T21:00:00|  null|https://bittrexbl...|\n",
      "|           VRC|         BTC|          VeriCoin|         Bitcoin| 14.58576429|   BTC-VRC|    true|2014-05-13T07:00:00|  null|https://bittrexbl...|\n",
      "+--------------+------------+------------------+----------------+------------+----------+--------+-------------------+------+--------------------+\n",
      "only showing top 20 rows\n",
      "\n"
     ]
    },
    {
     "data": {
      "text/plain": [
       "spark2 = org.apache.spark.sql.SparkSession@4ee2c680\n",
       "parsedData = Result(true,,List(Markets(LTC,BTC,Litecoin,Bitcoin,0.03039514,BTC-LTC,true,2014-02-13T00:00:00,None,https://bittrexblobstorage.blob.core.windows.net/public/6defbc41-582d-47a6-bb2e-d0fa88663524.png), Markets(DOGE,BTC,Dogecoin,Bitcoin,462.96296296,BTC-DOGE,true,2014-02-13T00:00:00,None,https://bittrexblobstorage.blob.core.windows.net/public/a2b8eaee-2905-4478-a7a0-246f212c64c6.png), Markets(VTC,BTC,Vertcoin,Bitcoin,2.56410256,BTC-VTC,true,2014-02-13T00:00:00,None,https://bittrexblobstorage.blob.core.windows.net/public/f497498a-d0a7-4b0d-a449-c193339cff40.png), Markets(PPC,BTC,Peercoin,Bitcoin,1.04414651,BTC-PPC,true,2014-02-13T00:00:00,None,https://bittrexb...\n"
      ]
     },
     "metadata": {},
     "output_type": "display_data"
    },
    {
     "data": {
      "text/plain": [
       "Result(true,,List(Markets(LTC,BTC,Litecoin,Bitcoin,0.03039514,BTC-LTC,true,2014-02-13T00:00:00,None,https://bittrexblobstorage.blob.core.windows.net/public/6defbc41-582d-47a6-bb2e-d0fa88663524.png), Markets(DOGE,BTC,Dogecoin,Bitcoin,462.96296296,BTC-DOGE,true,2014-02-13T00:00:00,None,https://bittrexblobstorage.blob.core.windows.net/public/a2b8eaee-2905-4478-a7a0-246f212c64c6.png), Markets(VTC,BTC,Vertcoin,Bitcoin,2.56410256,BTC-VTC,true,2014-02-13T00:00:00,None,https://bittrexblobstorage.blob.core.windows.net/public/f497498a-d0a7-4b0d-a449-c193339cff40.png), Markets(PPC,BTC,Peercoin,Bitcoin,1.04414651,BTC-PPC,true,2014-02-13T00:00:00,None,https://bittrexb..."
      ]
     },
     "execution_count": 105,
     "metadata": {},
     "output_type": "execute_result"
    }
   ],
   "source": [
    "val spark2 = spark\n",
    "import spark2.implicits._\n",
    "parse(fromURL(\"https://bittrex.com/api/v1.1/public/getmarkets\").mkString)\n",
    "val parsedData = parse(fromURL(\"https://bittrex.com/api/v1.1/public/getmarkets\").mkString).extract[Result]\n",
    "\n",
    "val mySourceDataset = spark.createDataset(parsedData.result)\n",
    "\n",
    "mySourceDataset.printSchema\n",
    "mySourceDataset.show()\n"
   ]
  },
  {
   "cell_type": "code",
   "execution_count": null,
   "metadata": {},
   "outputs": [],
   "source": []
  }
 ],
 "metadata": {
  "kernelspec": {
   "display_name": "Apache Toree - Scala",
   "language": "scala",
   "name": "apache_toree_scala"
  },
  "language_info": {
   "codemirror_mode": "text/x-scala",
   "file_extension": ".scala",
   "mimetype": "text/x-scala",
   "name": "scala",
   "pygments_lexer": "scala",
   "version": "2.11.12"
  }
 },
 "nbformat": 4,
 "nbformat_minor": 2
}
