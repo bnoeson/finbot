{
 "cells": [
  {
   "cell_type": "code",
   "execution_count": 47,
   "metadata": {},
   "outputs": [
    {
     "data": {
      "text/plain": [
       "org.apache.spark.sql.SparkSession@4ee2c680"
      ]
     },
     "execution_count": 47,
     "metadata": {},
     "output_type": "execute_result"
    }
   ],
   "source": [
    "spark"
   ]
  },
  {
   "cell_type": "code",
   "execution_count": 49,
   "metadata": {},
   "outputs": [],
   "source": [
    "import org.apache.spark.sql.SparkSession\n",
    "import org.json4s.jackson.JsonMethods.parse\n",
    "import scala.io.Source.fromURL"
   ]
  },
  {
   "cell_type": "code",
   "execution_count": 85,
   "metadata": {},
   "outputs": [
    {
     "data": {
      "text/plain": [
       "formats = org.json4s.DefaultFormats$@16342756\n",
       "defined class Markets\n",
       "defined class Result\n"
      ]
     },
     "metadata": {},
     "output_type": "display_data"
    },
    {
     "data": {
      "text/plain": [
       "lastException: Throwable = null\n"
      ]
     },
     "metadata": {},
     "output_type": "display_data"
    },
    {
     "data": {
      "text/plain": [
       "org.json4s.DefaultFormats$@16342756"
      ]
     },
     "execution_count": 85,
     "metadata": {},
     "output_type": "execute_result"
    }
   ],
   "source": [
    "implicit val formats = org.json4s.DefaultFormats\n",
    "\n",
    "case class Markets(\n",
    "                    MarketCurrency: String,\n",
    "                    BaseCurrency: String,\n",
    "                    MarketCurrencyLong: String,\n",
    "                    BaseCurrencyLong: String,\n",
    "                    MinTradeSize: Double,\n",
    "                    MarketName: String,\n",
    "                    IsActive: Boolean,\n",
    "                    Created: String,\n",
    "                    Notice: Option[String],\n",
    "                    IsSponsored: Option[Boolean],\n",
    "                    LogoUrl: String\n",
    ")\n",
    "\n",
    "case class Result(success: Boolean,\n",
    "                  message: String,\n",
    "                  result: List[Markets])\n"
   ]
  },
  {
   "cell_type": "code",
   "execution_count": 87,
   "metadata": {
    "scrolled": false
   },
   "outputs": [
    {
     "data": {
      "text/plain": [
       "lastException = null\n"
      ]
     },
     "metadata": {},
     "output_type": "display_data"
    },
    {
     "data": {
      "text/plain": [
       "Name: org.json4s.package$MappingException\n",
       "Message: No usable value for result\n",
       "Can't find constructor for Markets\n",
       "StackTrace: Can't find constructor for Markets\n",
       "  at org.json4s.reflect.package$.fail(package.scala:96)\n",
       "  at org.json4s.Extraction$ClassInstanceBuilder.org$json4s$Extraction$ClassInstanceBuilder$$buildCtorArg(Extraction.scala:462)\n",
       "  at org.json4s.Extraction$ClassInstanceBuilder$$anonfun$14.apply(Extraction.scala:482)\n",
       "  at org.json4s.Extraction$ClassInstanceBuilder$$anonfun$14.apply(Extraction.scala:482)\n",
       "  at scala.collection.TraversableLike$$anonfun$map$1.apply(TraversableLike.scala:234)\n",
       "  at scala.collection.TraversableLike$$anonfun$map$1.apply(TraversableLike.scala:234)\n",
       "  at scala.collection.mutable.ResizableArray$class.foreach(ResizableArray.scala:59)\n",
       "  at scala.collection.mutable.ArrayBuffer.foreach(ArrayBuffer.scala:48)\n",
       "  at scala.collection.TraversableLike$class.map(TraversableLike.scala:234)\n",
       "  at scala.collection.AbstractTraversable.map(Traversable.scala:104)\n",
       "  at org.json4s.Extraction$ClassInstanceBuilder.org$json4s$Extraction$ClassInstanceBuilder$$instantiate(Extraction.scala:470)\n",
       "  at org.json4s.Extraction$ClassInstanceBuilder$$anonfun$result$6.apply(Extraction.scala:515)\n",
       "  at org.json4s.Extraction$ClassInstanceBuilder$$anonfun$result$6.apply(Extraction.scala:512)\n",
       "  at org.json4s.Extraction$.org$json4s$Extraction$$customOrElse(Extraction.scala:524)\n",
       "  at org.json4s.Extraction$ClassInstanceBuilder.result(Extraction.scala:512)\n",
       "  at org.json4s.Extraction$.extract(Extraction.scala:351)\n",
       "  at org.json4s.Extraction$.extract(Extraction.scala:42)\n",
       "  at org.json4s.ExtractableJsonAstNode.extract(ExtractableJsonAstNode.scala:21)\n",
       "  ... 56 elided\n",
       "Caused by: org.json4s.package$MappingException: Can't find constructor for Markets\n",
       "  at org.json4s.reflect.ScalaSigReader$.readConstructor(ScalaSigReader.scala:27)\n",
       "  at org.json4s.reflect.Reflector$ClassDescriptorBuilder.ctorParamType(Reflector.scala:108)\n",
       "  at org.json4s.reflect.Reflector$ClassDescriptorBuilder$$anonfun$6.apply(Reflector.scala:98)\n",
       "  at org.json4s.reflect.Reflector$ClassDescriptorBuilder$$anonfun$6.apply(Reflector.scala:95)\n",
       "  at scala.collection.immutable.List.map(List.scala:273)\n",
       "  at org.json4s.reflect.Reflector$ClassDescriptorBuilder.ctorParamType(Reflector.scala:95)\n",
       "  at org.json4s.reflect.Reflector$ClassDescriptorBuilder$$anonfun$constructorsAndCompanion$3$$anonfun$13.apply(Reflector.scala:148)\n",
       "  at org.json4s.reflect.Reflector$ClassDescriptorBuilder$$anonfun$constructorsAndCompanion$3$$anonfun$13.apply(Reflector.scala:122)\n",
       "  at scala.collection.TraversableLike$$anonfun$map$1.apply(TraversableLike.scala:234)\n",
       "  at scala.collection.TraversableLike$$anonfun$map$1.apply(TraversableLike.scala:234)\n",
       "  at scala.collection.mutable.ResizableArray$class.foreach(ResizableArray.scala:59)\n",
       "  at scala.collection.mutable.ArrayBuffer.foreach(ArrayBuffer.scala:48)\n",
       "  at scala.collection.TraversableLike$class.map(TraversableLike.scala:234)\n",
       "  at scala.collection.AbstractTraversable.map(Traversable.scala:104)\n",
       "  at org.json4s.reflect.Reflector$ClassDescriptorBuilder$$anonfun$constructorsAndCompanion$3.apply(Reflector.scala:122)\n",
       "  at org.json4s.reflect.Reflector$ClassDescriptorBuilder$$anonfun$constructorsAndCompanion$3.apply(Reflector.scala:116)\n",
       "  at scala.collection.TraversableLike$$anonfun$map$1.apply(TraversableLike.scala:234)\n",
       "  at scala.collection.TraversableLike$$anonfun$map$1.apply(TraversableLike.scala:234)\n",
       "  at scala.collection.IndexedSeqOptimized$class.foreach(IndexedSeqOptimized.scala:33)\n",
       "  at scala.collection.mutable.WrappedArray.foreach(WrappedArray.scala:35)\n",
       "  at scala.collection.TraversableLike$class.map(TraversableLike.scala:234)\n",
       "  at scala.collection.AbstractTraversable.map(Traversable.scala:104)\n",
       "  at org.json4s.reflect.Reflector$ClassDescriptorBuilder.constructorsAndCompanion(Reflector.scala:116)\n",
       "  at org.json4s.reflect.Reflector$ClassDescriptorBuilder.result(Reflector.scala:156)\n",
       "  at org.json4s.reflect.Reflector$.createDescriptor(Reflector.scala:50)\n",
       "  at org.json4s.reflect.Reflector$$anonfun$describe$1.apply(Reflector.scala:44)\n",
       "  at org.json4s.reflect.Reflector$$anonfun$describe$1.apply(Reflector.scala:44)\n",
       "  at org.json4s.reflect.package$Memo.apply(package.scala:39)\n",
       "  at org.json4s.reflect.Reflector$.describe(Reflector.scala:44)\n",
       "  at org.json4s.Extraction$.extract(Extraction.scala:349)\n",
       "  at org.json4s.Extraction$CollectionBuilder$$anonfun$6.apply(Extraction.scala:360)\n",
       "  at org.json4s.Extraction$CollectionBuilder$$anonfun$6.apply(Extraction.scala:360)\n",
       "  at scala.collection.immutable.List.map(List.scala:273)\n",
       "  at org.json4s.Extraction$CollectionBuilder.mkCollection(Extraction.scala:360)\n",
       "  at org.json4s.Extraction$CollectionBuilder.result(Extraction.scala:380)\n",
       "  at org.json4s.Extraction$.extract(Extraction.scala:339)\n",
       "  at org.json4s.Extraction$ClassInstanceBuilder.org$json4s$Extraction$ClassInstanceBuilder$$buildCtorArg(Extraction.scala:450)"
      ]
     },
     "execution_count": 87,
     "metadata": {},
     "output_type": "execute_result"
    }
   ],
   "source": [
    "val spark2 = spark\n",
    "import spark2.implicits._\n",
    "val parsedData = parse(fromURL(\"https://bittrex.com/api/v1.1/public/getmarkets\").mkString).extract[Result]\n",
    "\n",
    "//val mySourceDataset = spark.createDataset(parsedData.result)\n",
    "\n",
    "//mySourceDataset.printSchema\n",
    "//mySourceDataset.show()\n"
   ]
  },
  {
   "cell_type": "code",
   "execution_count": 68,
   "metadata": {},
   "outputs": [
    {
     "data": {
      "text/plain": [
       "Name: Unknown Error\n",
       "Message: <console>:71: error: overloaded method value createDataset with alternatives:\n",
       "  [T](data: java.util.List[T])(implicit evidence$6: org.apache.spark.sql.Encoder[T])org.apache.spark.sql.Dataset[T] <and>\n",
       "  [T](data: org.apache.spark.rdd.RDD[T])(implicit evidence$5: org.apache.spark.sql.Encoder[T])org.apache.spark.sql.Dataset[T] <and>\n",
       "  [T](data: Seq[T])(implicit evidence$4: org.apache.spark.sql.Encoder[T])org.apache.spark.sql.Dataset[T]\n",
       " cannot be applied to (Option[scala.collection.immutable.List[Markets]])\n",
       "       val mySourceDataset = spark.createDataset(parsedData.result)\n",
       "                                   ^\n",
       "\n",
       "StackTrace: "
      ]
     },
     "execution_count": 68,
     "metadata": {},
     "output_type": "execute_result"
    }
   ],
   "source": []
  }
 ],
 "metadata": {
  "kernelspec": {
   "display_name": "Apache Toree - Scala",
   "language": "scala",
   "name": "apache_toree_scala"
  },
  "language_info": {
   "codemirror_mode": "text/x-scala",
   "file_extension": ".scala",
   "mimetype": "text/x-scala",
   "name": "scala",
   "pygments_lexer": "scala",
   "version": "2.11.12"
  }
 },
 "nbformat": 4,
 "nbformat_minor": 2
}
